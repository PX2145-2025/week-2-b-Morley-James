{
  "cells": [
    {
      "cell_type": "markdown",
      "metadata": {
        "id": "view-in-github",
        "colab_type": "text"
      },
      "source": [
        "<a href=\"https://colab.research.google.com/github/PX2145-2025/week-2-b-Morley-James/blob/main/Functions.ipynb\" target=\"_parent\"><img src=\"https://colab.research.google.com/assets/colab-badge.svg\" alt=\"Open In Colab\"/></a>"
      ]
    },
    {
      "cell_type": "markdown",
      "metadata": {
        "id": "wcYzdesOG2DB"
      },
      "source": [
        "# Feedback for week 1 and other and hints\n",
        "\n",
        "We are working with [Jupyter notebooks](https://jupyter.org/). You can either run those in the [Google Colab](https://colab.research.google.com/notebooks/intro.ipynb) environment, or on your own computer with [Anaconda3](https://www.anaconda.com/distribution/#download-section).\n",
        "\n",
        "1. Be careful about your environment remembering variables. Make sure your code works in a new _clean_ environment. In Colab: `Runtime`->`restart Runtime`, in Anaconda's Jupyter: `Kernel`->`Restart`.\n",
        "2. Graphs without labels (or units when appropriate) are not worth any point.\n",
        "4. If you are using `loadtxt()` to read in from a file where the numbers are separated by commas, you need to use the keyword `delimiter=','`.\n",
        "5. If you are asked to plot a function (for example $y = x^2$ in question 2 last week, or the 2D function of question 3) you will need to think for yourself the best way to do this - deciding the number of points and the range of values etc.\n",
        "6. Always explore the options of Python functions using the in-built help or refer to https://docs.scipy.org/ and https://www.python.org/doc/.\n",
        "\n",
        "For this week we will need the following imports:"
      ]
    },
    {
      "cell_type": "code",
      "execution_count": 6,
      "metadata": {
        "id": "3C4LDHUkG2DC"
      },
      "outputs": [],
      "source": [
        "from numpy import array,sqrt,pi,sin"
      ]
    },
    {
      "cell_type": "markdown",
      "metadata": {
        "id": "RLIIkmraG2DG"
      },
      "source": [
        "# Introduction\n",
        "\n",
        "In this worksheet we’ll introduce Python functions. Functions are important in any programming language since they enable code to be simply re-used in a program (and other programs). They also help break up complex problems into simpler pieces and therefore make the code simpler and clearer.\n",
        "Functions are most easily understood by example:\n",
        "## Simple functions\n",
        "Run the following code:"
      ]
    },
    {
      "cell_type": "code",
      "execution_count": 7,
      "metadata": {
        "colab": {
          "base_uri": "https://localhost:8080/"
        },
        "id": "AbUJtLHMG2DH",
        "outputId": "a3fcbbec-0f61-4a1f-b7cb-e27f59d08b31"
      },
      "outputs": [
        {
          "output_type": "stream",
          "name": "stdout",
          "text": [
            "Cube of 3.1 is 29.791000000000004\n",
            "Cube of 3.1 is 29.791000000000004\n",
            "Cube of 1.3 is 2.1970000000000005\n"
          ]
        }
      ],
      "source": [
        "def cube(x):\n",
        "    \"\"\"\n",
        "    Return the cube of x\n",
        "    >>> cube(3)\n",
        "    27\n",
        "    \"\"\"\n",
        "    return x * x * x\n",
        "\n",
        "x = 3.1\n",
        "print('Cube of', x, 'is', cube(x))\n",
        "'''\n",
        "Of course, we don't have to use the same variable name 'x'. This is\n",
        "a 'dummy variable' in the function.\n",
        "'''\n",
        "y = 3.1\n",
        "print('Cube of', y, 'is', cube(y))\n",
        "\n",
        "print('Cube of', 1.3, 'is', cube(1.3))"
      ]
    },
    {
      "cell_type": "markdown",
      "metadata": {
        "id": "amaQagttG2DL"
      },
      "source": [
        "The keyword `def` marks the start of the definition of a function. This is followed by the name of the function and any parameters that are to be passed into the function. The keyword `return` is used if the function needs to return parameters. Not all functions will need to do this - they might just perform a series of actions. For example:"
      ]
    },
    {
      "cell_type": "code",
      "execution_count": 8,
      "metadata": {
        "colab": {
          "base_uri": "https://localhost:8080/"
        },
        "id": "tnzUNcKTG2DM",
        "outputId": "d02444bc-042b-40c1-d7af-4eb36c994fc7"
      },
      "outputs": [
        {
          "output_type": "stream",
          "name": "stdout",
          "text": [
            "Cube of 3 is 27\n"
          ]
        }
      ],
      "source": [
        "# Define a simple function ...\n",
        "def print_cube(x):\n",
        "    \"\"\"\n",
        "    Prints the cube of x\n",
        "    >>> print_cube(3)\n",
        "    Cube of 3 is 27\n",
        "    \"\"\"\n",
        "    print ('Cube of', x, 'is', x * x * x)\n",
        "\n",
        "print_cube(3)"
      ]
    },
    {
      "cell_type": "markdown",
      "metadata": {
        "id": "DsU6dZZzG2DO"
      },
      "source": [
        "What do you expect the following code snippet will print out?"
      ]
    },
    {
      "cell_type": "code",
      "execution_count": 9,
      "metadata": {
        "colab": {
          "base_uri": "https://localhost:8080/"
        },
        "id": "-tS7arGDG2DP",
        "outputId": "52e267e1-5c3a-45ec-8422-05382633913d"
      },
      "outputs": [
        {
          "output_type": "stream",
          "name": "stdout",
          "text": [
            "Original value 3\n",
            "After function call 3\n",
            "x to the 4: 81\n"
          ]
        }
      ],
      "source": [
        "# Define a simple function ...\n",
        "def quad(x):\n",
        "    \"\"\"\n",
        "    Return the fourth power of x\n",
        "    >>> quad(3)\n",
        "    81\n",
        "    \"\"\"\n",
        "    x = x**4\n",
        "    return x\n",
        "\n",
        "x = 3\n",
        "print('Original value', x)\n",
        "quad(x)\n",
        "print('After function call', x) #outside of quad x is still 3\n",
        "\n",
        "#to print x^4:\n",
        "print('x to the 4:', quad(x))"
      ]
    },
    {
      "cell_type": "markdown",
      "metadata": {
        "id": "F2eRolK7G2DU"
      },
      "source": [
        "**Note**: the functions above have a short string describing what they do, and give an example of how to use them. Writing the function documation that way in `python` has two advanges. First, it will get picked up by built-in help systems, and second it can get run automatically by software that check the health of the code. We are using such a software, [doctest](https://docs.python.org/3/library/doctest.html#module-doctest), in this classroom setup. So in this latest example, `doctest` tries to run `quad(3)` and checks if the answer is indeed `81`. There are such tests included in the exercises. Don't remove them, they are here to help you iterate over the right solution.\n",
        "\n",
        "Functions can be rather flexible in how they work. For example, we can define a simple function which is a linear function of an input variable x, and it will work for both a simple variable or an array:"
      ]
    },
    {
      "cell_type": "code",
      "execution_count": 10,
      "metadata": {
        "colab": {
          "base_uri": "https://localhost:8080/"
        },
        "id": "9BS0CzDNG2DV",
        "outputId": "f07c6eac-5efe-414d-cb02-11e294a02505"
      },
      "outputs": [
        {
          "output_type": "stream",
          "name": "stdout",
          "text": [
            "Cube of 3 is 27\n",
            "3.4\n"
          ]
        }
      ],
      "source": [
        "# Define a simple function ...\n",
        "def print_cube(x):\n",
        "    \"\"\"\n",
        "    Prints the cube of x\n",
        "    >>> print_cube(3)\n",
        "    Cube of 3 is 27\n",
        "    \"\"\"\n",
        "    print('Cube of', x, 'is', x * x * x)\n",
        "\n",
        "print_cube(3)\n",
        "\n",
        "# Define a less simple function ...\n",
        "def linear(x, m, c):\n",
        "    '''\n",
        "    This returns a linear function of a variable x\n",
        "    '''\n",
        "    return m*x + c\n",
        "\n",
        "x = 1.2\n",
        "y = linear(x, 2, 1)\n",
        "print(y)"
      ]
    },
    {
      "cell_type": "code",
      "execution_count": 11,
      "metadata": {
        "colab": {
          "base_uri": "https://localhost:8080/",
          "height": 88
        },
        "id": "pLb4X8k3G2DX",
        "outputId": "566443a6-936c-4041-b031-764c3d3e182f"
      },
      "outputs": [
        {
          "output_type": "stream",
          "name": "stdout",
          "text": [
            "[ 1.  3.  5.  7.  9. 11. 13. 15.]\n"
          ]
        },
        {
          "output_type": "execute_result",
          "data": {
            "text/plain": [
              "' The linear function operates on each entry in x and returns a new array with the results\\n[0, 1, 2, 3, 4, 5, 6, 7]\\nI  I  I  I  I  I  I  I\\n[1, 3, 5, 7, 9, 11,13,15]\\n'"
            ],
            "application/vnd.google.colaboratory.intrinsic+json": {
              "type": "string"
            }
          },
          "metadata": {},
          "execution_count": 11
        }
      ],
      "source": [
        "# Create a data array ...\n",
        "x = array([ 0.0, 1.0, 2.0, 3.0, 4.0, 5.0, 6.0, 7.0 ])\n",
        "y = linear(x, 2, 1)\n",
        "print(y)\n",
        "\"\"\" The linear function operates on each entry in x and returns a new array with the results\n",
        "[0, 1, 2, 3, 4, 5, 6, 7]\n",
        "I  I  I  I  I  I  I  I\n",
        "[1, 3, 5, 7, 9, 11,13,15]\n",
        "\"\"\"\n"
      ]
    },
    {
      "cell_type": "markdown",
      "metadata": {
        "id": "BPxpC6iJG2Da"
      },
      "source": [
        "## More about functions\n",
        "Sometimes, there can be lots of variables that remain the same when calling a function. If that’s the case you can simplify the syntax a bit. For example, let’s write a function to find how long it takes a mass to hit the ground when dropped (from rest) from a height h. The function will look like:"
      ]
    },
    {
      "cell_type": "code",
      "execution_count": 12,
      "metadata": {
        "id": "Zhs4BHHCG2Da"
      },
      "outputs": [],
      "source": [
        "def T(h, g):\n",
        "    '''\n",
        "    Returns fall time [s] of a mass released from a height\n",
        "    h [m] above the Earth's surface. g in ms^-2.\n",
        "    '''\n",
        "    return sqrt(2*h/g)"
      ]
    },
    {
      "cell_type": "markdown",
      "metadata": {
        "id": "eiKjxDt-G2Dc"
      },
      "source": [
        "This is called as follows:"
      ]
    },
    {
      "cell_type": "code",
      "execution_count": 13,
      "metadata": {
        "colab": {
          "base_uri": "https://localhost:8080/"
        },
        "id": "jUWeQGAgG2Dd",
        "outputId": "c1bb152b-6607-498c-f7fe-30eabf740ab6"
      },
      "outputs": [
        {
          "output_type": "stream",
          "name": "stdout",
          "text": [
            "Time from 1 metre is 0.4517539514526256 s\n"
          ]
        }
      ],
      "source": [
        "height = 1  # metre\n",
        "print ('Time from', height, 'metre', 'is' , T(height, 9.8),'s')"
      ]
    },
    {
      "cell_type": "markdown",
      "metadata": {
        "id": "pM_SOHN6G2Df"
      },
      "source": [
        "You *could* program this with a hard-coded value for g, to make the function call simpler:"
      ]
    },
    {
      "cell_type": "code",
      "execution_count": 14,
      "metadata": {
        "colab": {
          "base_uri": "https://localhost:8080/"
        },
        "id": "dyxgqYqKG2Df",
        "outputId": "43298166-d868-4598-cfc5-9ddb633224c9"
      },
      "outputs": [
        {
          "output_type": "stream",
          "name": "stdout",
          "text": [
            "Time from 1 metre is 0.4515236409857309 s\n"
          ]
        }
      ],
      "source": [
        "def T(h):\n",
        "    '''\n",
        "    Returns fall time [s] of a mass released from a height\n",
        "    h [m] above the Earth's surface.\n",
        "    '''\n",
        "    g=9.81 # in ms^-2\n",
        "    return sqrt(2*h/g)\n",
        "\n",
        "height = 1 # metre\n",
        "print ('Time from', height, 'metre', 'is' , T(height),'s')"
      ]
    },
    {
      "cell_type": "markdown",
      "metadata": {
        "id": "qc7y9fojG2Dk"
      },
      "source": [
        "but then of course it wouldn’t work for Mars’ gravity. A better way is"
      ]
    },
    {
      "cell_type": "code",
      "execution_count": 15,
      "metadata": {
        "colab": {
          "base_uri": "https://localhost:8080/"
        },
        "id": "Fm2wr1XyG2Dk",
        "outputId": "b5c59a11-1f25-417f-f668-b60dc0cddf1f"
      },
      "outputs": [
        {
          "output_type": "stream",
          "name": "stdout",
          "text": [
            "Time from 1 metre on Earth is 0.4515236409857309 s\n",
            "Time from 1 metre on Mars is 0.7352146220938077 s\n"
          ]
        }
      ],
      "source": [
        "def T(h, g=9.81): #sets a default value of g if not otherwise specified\n",
        "    '''\n",
        "    Returns fall time [s] of a mass released from a height\n",
        "    h [m] above a planet's surface. Default g is 9.81 ms^-2\n",
        "    '''\n",
        "    return sqrt(2*h/g)\n",
        "\n",
        "height = 1  # metre\n",
        "print('Time from', height, 'metre', 'on Earth is' , T(height),'s')\n",
        "print('Time from', height, 'metre', 'on Mars is' , T(height, g=3.7),'s')"
      ]
    },
    {
      "cell_type": "code",
      "execution_count": 16,
      "metadata": {
        "id": "CGl74LOHtKVV",
        "outputId": "86f16cd5-1822-445b-f1dd-8ea8488d5137",
        "colab": {
          "base_uri": "https://localhost:8080/"
        }
      },
      "outputs": [
        {
          "output_type": "stream",
          "name": "stdout",
          "text": [
            "Time from 1 metre on Earth is 0.4515236409857309 s\n",
            "Time from 2 metre on Earth is 0.638550856814101 s\n",
            "Time from 5 metre on Earth is 1.0096375546923044 s\n",
            "Time from 10 metre on Earth is 1.4278431229270645 s\n"
          ]
        }
      ],
      "source": [
        "for height in [1,2,5,10]:\n",
        "    print('Time from', height, 'metre', 'on Earth is' , T(height),'s')\n",
        "\n",
        "    #repleatedly caculates fall time for each value of height and prints these values"
      ]
    },
    {
      "cell_type": "markdown",
      "metadata": {
        "id": "OcYE3uDWG2Dm"
      },
      "source": [
        "You can easily extend this to any number of variables. **IMPORTANT**: remember, documentation is part of the code. You should always add a description of a function, especially its inputs and outputs.\n",
        "## Formatting - a reminder\n",
        "You’ll often want to control the number of significant figures that you print out, or use scientific rather than floating point representation of numbers. Remember that you can achieve this in the following ways for example:"
      ]
    },
    {
      "cell_type": "code",
      "execution_count": 17,
      "metadata": {
        "colab": {
          "base_uri": "https://localhost:8080/"
        },
        "id": "NIdPD-snG2Dn",
        "outputId": "656d2ab5-688d-4933-c7e4-6954aecd2135"
      },
      "outputs": [
        {
          "output_type": "stream",
          "name": "stdout",
          "text": [
            "pi is approximately 3.142.\n",
            "pi is approximately 3.142.\n",
            "8.7 75.90 661.2316\n"
          ]
        }
      ],
      "source": [
        "# recommended method\n",
        "print('pi is approximately {0:.3f}.'.format(pi))\n",
        "# old method you'll see in some code\n",
        "print('pi is approximately %5.3f.' % pi)\n",
        "# the new method is quite powerful ...\n",
        "x = 8.712\n",
        "print('{0:3.1f} {1:3.2f} {2:3.4f}'.format(x, x*x, x*x*x))"
      ]
    },
    {
      "cell_type": "markdown",
      "metadata": {
        "id": "tWtA6Nr9G2Dq"
      },
      "source": [
        "## Packages and functions\n",
        "You’ve already used functions before of course, if not defined them. Some of these functions can be imported by default at the start of your program. But to import extra functions that are not available we have to use something like:"
      ]
    },
    {
      "cell_type": "code",
      "execution_count": 18,
      "metadata": {
        "id": "lXpVdGTAG2Dr"
      },
      "outputs": [],
      "source": [
        "from scipy import integrate"
      ]
    },
    {
      "cell_type": "markdown",
      "metadata": {
        "id": "m41_kAklG2Du"
      },
      "source": [
        "You saw this used when doing numerical integration in PX1224 last year. It’s often convenient to save your own functions in ‘packages’ (or ‘modules’) for future use. This way, if you develop lots of useful functions you have them simply available.\n",
        "\n",
        "Let’s test this out. We will save the following python code in a file called `px2134.py`:\n",
        "\n",
        "```python\n",
        "# A test of writing a simple package.\n",
        "# Define a simple function ...\n",
        "def mycube(x):\n",
        "    return x * x * x\n",
        "```\n",
        "\n",
        "The cell below is saving this code to the `px2134.py` file. In this class we will do this within the notebook to keep all in the same place. But in general one can simply create this `.py` file, (called a _python script_) with any editor one likes (you have used Spyder last year)."
      ]
    },
    {
      "cell_type": "code",
      "execution_count": 19,
      "metadata": {
        "id": "aRUa2IBktKVW",
        "outputId": "f4a0c58e-8b6b-42ff-f05a-359031883543",
        "colab": {
          "base_uri": "https://localhost:8080/"
        }
      },
      "outputs": [
        {
          "output_type": "stream",
          "name": "stdout",
          "text": [
            "Writing px2134.py\n"
          ]
        }
      ],
      "source": [
        "%%writefile px2134.py\n",
        "\n",
        "# A test of writing a simple package.\"\n",
        "# Define a simple function ...\"\n",
        "def mycube(x):\n",
        "    return x * x * x\n"
      ]
    },
    {
      "cell_type": "markdown",
      "metadata": {
        "id": "61jkBamaKcxL"
      },
      "source": [
        "You can test out the code like this:"
      ]
    },
    {
      "cell_type": "code",
      "execution_count": 20,
      "metadata": {
        "colab": {
          "base_uri": "https://localhost:8080/"
        },
        "id": "wJJuLLtrG2Du",
        "outputId": "baa38f64-7db3-42c6-e797-56221cad475e"
      },
      "outputs": [
        {
          "output_type": "stream",
          "name": "stdout",
          "text": [
            "Cube of 3.1 is 29.791000000000004\n"
          ]
        }
      ],
      "source": [
        "from px2134 import *\n",
        "x = 3.1\n",
        "print ('Cube of', x, 'is', mycube(x))"
      ]
    },
    {
      "cell_type": "markdown",
      "metadata": {
        "id": "e4SvOSt1G2Dw"
      },
      "source": [
        "Generally, it’s better not to import everything in one go, which is what the syntax `from <some_package import> *` does. It’s nicer to know (i) what you are importing and (ii) where it comes from, especially if you are importing several modules. The better syntax to employ is:"
      ]
    },
    {
      "cell_type": "code",
      "execution_count": 21,
      "metadata": {
        "colab": {
          "base_uri": "https://localhost:8080/"
        },
        "id": "b3ZUtAloG2Dw",
        "outputId": "ca7c62ac-b030-47cd-968d-26d31090cc18"
      },
      "outputs": [
        {
          "output_type": "stream",
          "name": "stdout",
          "text": [
            "27\n"
          ]
        }
      ],
      "source": [
        "from px2134 import mycube # Imports just this function\n",
        "print (cube(3))\n",
        "from math import log, exp # Imports several functions"
      ]
    },
    {
      "cell_type": "markdown",
      "metadata": {
        "id": "ltztnJFHG2D0"
      },
      "source": [
        "Often, you will see packages imported like this:"
      ]
    },
    {
      "cell_type": "code",
      "execution_count": 22,
      "metadata": {
        "colab": {
          "base_uri": "https://localhost:8080/"
        },
        "id": "qcGCvifnG2D0",
        "outputId": "049e8d00-3cee-4d51-d28d-9db8d11116c3"
      },
      "outputs": [
        {
          "output_type": "stream",
          "name": "stdout",
          "text": [
            "27\n"
          ]
        }
      ],
      "source": [
        "import px2134 # Imports the package itself\n",
        "print (px2134.mycube(3)) # But functions then need to be called like this"
      ]
    },
    {
      "cell_type": "markdown",
      "metadata": {
        "id": "CRr9-bzAG2D2"
      },
      "source": [
        "You can make it a bit nicer by having a name of your choice when importing:"
      ]
    },
    {
      "cell_type": "code",
      "execution_count": 23,
      "metadata": {
        "colab": {
          "base_uri": "https://localhost:8080/"
        },
        "id": "t09udDr5G2D2",
        "outputId": "b79ed1f2-2325-4849-9a94-ec39236b91fc"
      },
      "outputs": [
        {
          "output_type": "stream",
          "name": "stdout",
          "text": [
            "27\n"
          ]
        }
      ],
      "source": [
        "import px2134 as px # Imports the package\n",
        "print (px.mycube(3)) # Functions called like this"
      ]
    },
    {
      "cell_type": "markdown",
      "metadata": {
        "id": "Z9PJ7ZvCG2D4"
      },
      "source": [
        "Large packages are often split into smaller sub-packages, called modules. A module within a larger package is referred to as `packagename.modulename`. There are many useful mathematical facilities available in the numpy package - e.g. linear algebra and Fourier transform modules. Thus the linear algebra module is called `numpy.linalg` and the (fast) Fourier transform module is called `numpy.fft`. We can import a function from a module like this:"
      ]
    },
    {
      "cell_type": "code",
      "execution_count": 24,
      "metadata": {
        "id": "QYZSzW-zG2D5"
      },
      "outputs": [],
      "source": [
        "from numpy.linalg import inv"
      ]
    },
    {
      "cell_type": "markdown",
      "metadata": {
        "caption": "function diagrams",
        "id": "_CWMKP7GG2D7",
        "label": "fig:functions",
        "widefigure": true
      },
      "source": [
        "## Thinking about functions\n",
        "When functions are new to you it is easy to fall into the trap of using them poorly. You should always keep in mind that functions are for simplifying programs by providing a *re-usable* piece of code. They therefore MUST be self-contained and have a well-defined user interface – that is, they will normally input data of a particular form and output data (or perform a defined action) of a particular form, *independent of the rest of the program*.\n",
        "This is illustrated in the sketches below. Functions that a user might want to call a great many time in a row won't include `print` or `plot` statements. A function is regarded as a “black box” taking in data and giving out data. This is what the `sin` function does for example and what our `cube` function did.\n",
        "![Figure 1: function diagrams](https://raw.githubusercontent.com/PX2134/images/master/week2/functions.001.png \"Figure 1: function diagrams.\")"
      ]
    },
    {
      "cell_type": "markdown",
      "metadata": {
        "id": "xQa2kzbzG2D7"
      },
      "source": [
        "# Exercises\n",
        "This must be marked before you leave the lab. Mark weighting is in brackets.\n",
        "**Save your work to GitHub after having run all cells with `Runtime` -> `Restart and run all`. And do not change the notebook's filename.** Do add comments to your code, you'll lose points if your code is hard to understand. Graphs without labels (or units when appropriate) are not worth any point.\n",
        "\n",
        "## Exercise 0\n",
        "[0] Write a function `convert(angle)` to convert angles in degrees to radians. Write another function `recenter(angle)` to wrap angles in radian into the $(-\\pi,\\pi]$ interval. Save those two functions into a file named `anglesutils.py`.\n",
        "\n",
        "A centrifuge's loading position at $t=0\\,\\text{s}$ is $45^\\circ$ degrees, and start accelerating at $\\alpha=2^{\\circ}\\,\\text{s}^{-2}$. So it's position in degrees is given as a function of time (in seconds) by:\n",
        "\n",
        "$$\n",
        "position(t)=45+\\frac{1}{2}\\,2\\,t^2\n",
        "$$\n",
        "\n",
        "Use the `anglesutils` module you just created to plot that function from $t=0\\,\\text{s}$ to $t=30\\,\\text{s}$ in radian in the $(-\\pi,\\pi]$ interval.\n",
        "\n",
        "(this exercise is for demonstration purposes and won't be marked)"
      ]
    },
    {
      "cell_type": "code",
      "execution_count": 24,
      "metadata": {
        "id": "iqJ04_WFtKVX"
      },
      "outputs": [],
      "source": []
    },
    {
      "cell_type": "markdown",
      "metadata": {
        "id": "shhzu59PtKVb"
      },
      "source": [
        "## Exercise 1\n",
        "\n",
        "[4] Define a function `func1(time,amplitude,frequency,phase)` which returns a sine wave (as a function of time) of chosen amplitude, frequency and phase. Test it out with different amplitude, frequency and phase values by plotting suitable graphs. Set the default values for ampliture, frequency and phase to be 1, 1 and 0, respectively."
      ]
    },
    {
      "cell_type": "code",
      "source": [
        "import matplotlib.pyplot as plt\n",
        "import numpy as np"
      ],
      "metadata": {
        "id": "E5JlM3Nr-noL"
      },
      "execution_count": 25,
      "outputs": []
    },
    {
      "cell_type": "code",
      "execution_count": 26,
      "metadata": {
        "id": "hfSs2dEHtKVb"
      },
      "outputs": [],
      "source": [
        "def func1(time, amplitude = 1, frequency = 1, phase = 0):\n",
        "  \"\"\"operates on the input to (time [s]) and output of numpy sin function\n",
        "  to vary the phase [rad], frequency [Hz] and amplitude [m] of the sin wave.\n",
        "  By default amplitude = 1m, frequency = 1Hz, phase = 0rad\"\"\"\n",
        "  return amplitude * sin((2 * pi * frequency * time) + phase)"
      ]
    },
    {
      "cell_type": "code",
      "source": [
        "time = np.linspace(0,2,100)\n",
        "print(time)\n",
        "print(func1(time))\n",
        "plt.plot(time,func1(time))\n",
        "plt.xlabel(\"time[s]\")\n",
        "plt.ylabel(\"displacement[m]\")"
      ],
      "metadata": {
        "colab": {
          "base_uri": "https://localhost:8080/",
          "height": 1000
        },
        "id": "cs-NHAVC_Aq9",
        "outputId": "1c7e8306-d4e4-418d-8ac9-d8fcc1ca4de3"
      },
      "execution_count": 27,
      "outputs": [
        {
          "output_type": "stream",
          "name": "stdout",
          "text": [
            "[0.         0.02020202 0.04040404 0.06060606 0.08080808 0.1010101\n",
            " 0.12121212 0.14141414 0.16161616 0.18181818 0.2020202  0.22222222\n",
            " 0.24242424 0.26262626 0.28282828 0.3030303  0.32323232 0.34343434\n",
            " 0.36363636 0.38383838 0.4040404  0.42424242 0.44444444 0.46464646\n",
            " 0.48484848 0.50505051 0.52525253 0.54545455 0.56565657 0.58585859\n",
            " 0.60606061 0.62626263 0.64646465 0.66666667 0.68686869 0.70707071\n",
            " 0.72727273 0.74747475 0.76767677 0.78787879 0.80808081 0.82828283\n",
            " 0.84848485 0.86868687 0.88888889 0.90909091 0.92929293 0.94949495\n",
            " 0.96969697 0.98989899 1.01010101 1.03030303 1.05050505 1.07070707\n",
            " 1.09090909 1.11111111 1.13131313 1.15151515 1.17171717 1.19191919\n",
            " 1.21212121 1.23232323 1.25252525 1.27272727 1.29292929 1.31313131\n",
            " 1.33333333 1.35353535 1.37373737 1.39393939 1.41414141 1.43434343\n",
            " 1.45454545 1.47474747 1.49494949 1.51515152 1.53535354 1.55555556\n",
            " 1.57575758 1.5959596  1.61616162 1.63636364 1.65656566 1.67676768\n",
            " 1.6969697  1.71717172 1.73737374 1.75757576 1.77777778 1.7979798\n",
            " 1.81818182 1.83838384 1.85858586 1.87878788 1.8989899  1.91919192\n",
            " 1.93939394 1.95959596 1.97979798 2.        ]\n",
            "[ 0.00000000e+00  1.26592454e-01  2.51147987e-01  3.71662456e-01\n",
            "  4.86196736e-01  5.92907929e-01  6.90079011e-01  7.76146464e-01\n",
            "  8.49725430e-01  9.09631995e-01  9.54902241e-01  9.84807753e-01\n",
            "  9.98867339e-01  9.96854776e-01  9.78802446e-01  9.45000819e-01\n",
            "  8.95993774e-01  8.32569855e-01  7.55749574e-01  6.66769001e-01\n",
            "  5.67059864e-01  4.58226522e-01  3.42020143e-01  2.20310533e-01\n",
            "  9.50560433e-02 -3.17279335e-02 -1.58001396e-01 -2.81732557e-01\n",
            " -4.00930535e-01 -5.13677392e-01 -6.18158986e-01 -7.12694171e-01\n",
            " -7.95761841e-01 -8.66025404e-01 -9.22354294e-01 -9.63842159e-01\n",
            " -9.89821442e-01 -9.99874128e-01 -9.93838464e-01 -9.71811568e-01\n",
            " -9.34147860e-01 -8.81453363e-01 -8.14575952e-01 -7.34591709e-01\n",
            " -6.42787610e-01 -5.40640817e-01 -4.29794912e-01 -3.12033446e-01\n",
            " -1.89251244e-01 -6.34239197e-02  6.34239197e-02  1.89251244e-01\n",
            "  3.12033446e-01  4.29794912e-01  5.40640817e-01  6.42787610e-01\n",
            "  7.34591709e-01  8.14575952e-01  8.81453363e-01  9.34147860e-01\n",
            "  9.71811568e-01  9.93838464e-01  9.99874128e-01  9.89821442e-01\n",
            "  9.63842159e-01  9.22354294e-01  8.66025404e-01  7.95761841e-01\n",
            "  7.12694171e-01  6.18158986e-01  5.13677392e-01  4.00930535e-01\n",
            "  2.81732557e-01  1.58001396e-01  3.17279335e-02 -9.50560433e-02\n",
            " -2.20310533e-01 -3.42020143e-01 -4.58226522e-01 -5.67059864e-01\n",
            " -6.66769001e-01 -7.55749574e-01 -8.32569855e-01 -8.95993774e-01\n",
            " -9.45000819e-01 -9.78802446e-01 -9.96854776e-01 -9.98867339e-01\n",
            " -9.84807753e-01 -9.54902241e-01 -9.09631995e-01 -8.49725430e-01\n",
            " -7.76146464e-01 -6.90079011e-01 -5.92907929e-01 -4.86196736e-01\n",
            " -3.71662456e-01 -2.51147987e-01 -1.26592454e-01 -4.89858720e-16]\n"
          ]
        },
        {
          "output_type": "execute_result",
          "data": {
            "text/plain": [
              "Text(0, 0.5, 'displacement[m]')"
            ]
          },
          "metadata": {},
          "execution_count": 27
        },
        {
          "output_type": "display_data",
          "data": {
            "text/plain": [
              "<Figure size 640x480 with 1 Axes>"
            ],
            "image/png": "[encoded data removed]"
          },
          "metadata": {}
        }
      ]
    },
    {
      "cell_type": "code",
      "source": [
        "time = np.linspace(0,2,100)\n",
        "plt.plot(time,func1(time,2,0.5))\n",
        "plt.xlabel(\"time[s]\")\n",
        "plt.ylabel(\"displacement[m]\")"
      ],
      "metadata": {
        "colab": {
          "base_uri": "https://localhost:8080/",
          "height": 466
        },
        "id": "TYv7L-vDBLN1",
        "outputId": "5748fe19-12a8-4682-c856-f0b677def024"
      },
      "execution_count": 28,
      "outputs": [
        {
          "output_type": "execute_result",
          "data": {
            "text/plain": [
              "Text(0, 0.5, 'displacement[m]')"
            ]
          },
          "metadata": {},
          "execution_count": 28
        },
        {
          "output_type": "display_data",
          "data": {
            "text/plain": [
              "<Figure size 640x480 with 1 Axes>"
            ],
            "image/png": "[encoded data removed]"
          },
          "metadata": {}
        }
      ]
    },
    {
      "cell_type": "code",
      "source": [
        "time = np.linspace(0,2,100)\n",
        "plt.plot(time,func1(time,1,0.5,pi))\n",
        "plt.xlabel(\"time[s]\")\n",
        "plt.ylabel(\"displacement[m]\")"
      ],
      "metadata": {
        "colab": {
          "base_uri": "https://localhost:8080/",
          "height": 466
        },
        "id": "iv6iBUYw_1Cf",
        "outputId": "3772da50-949c-4f49-cb6b-c6f998131111"
      },
      "execution_count": 29,
      "outputs": [
        {
          "output_type": "execute_result",
          "data": {
            "text/plain": [
              "Text(0, 0.5, 'displacement[m]')"
            ]
          },
          "metadata": {},
          "execution_count": 29
        },
        {
          "output_type": "display_data",
          "data": {
            "text/plain": [
              "<Figure size 640x480 with 1 Axes>"
            ],
            "image/png": "[encoded data removed]"
          },
          "metadata": {}
        }
      ]
    },
    {
      "cell_type": "code",
      "source": [
        "time = np.linspace(0,2,100)\n",
        "plt.plot(time,func1(time,0.5))\n",
        "plt.xlabel(\"time[s]\")\n",
        "plt.ylabel(\"displacement[m]\")"
      ],
      "metadata": {
        "colab": {
          "base_uri": "https://localhost:8080/",
          "height": 466
        },
        "id": "hQK6bXmuBbF8",
        "outputId": "a77d8f98-26f9-486b-cfbd-c531d3e71f25"
      },
      "execution_count": 30,
      "outputs": [
        {
          "output_type": "execute_result",
          "data": {
            "text/plain": [
              "Text(0, 0.5, 'displacement[m]')"
            ]
          },
          "metadata": {},
          "execution_count": 30
        },
        {
          "output_type": "display_data",
          "data": {
            "text/plain": [
              "<Figure size 640x480 with 1 Axes>"
            ],
            "image/png": "[encoded data removed]"
          },
          "metadata": {}
        }
      ]
    },
    {
      "cell_type": "markdown",
      "metadata": {
        "id": "R7x9C4nGtKVb"
      },
      "source": [
        "## Exercise 2\n",
        "\n",
        "A satellite has a circular orbit around the Earth with a period $T$.\n",
        "  1. [2] Prove that its altitude $h$ above the Earth‘s surface is ($M$ is Earth’s mass and $R$ its radius):\n",
        "$$h={\\left ( \\frac{GMT^2}{4\\pi^2} \\right )}^{1/3} - R$$\n",
        "    * Write the proof in Markdown in the notebook directly, no need to use python.\n",
        "    * Follow the [markdown guide](https://colab.research.google.com/notebooks/markdown_guide.ipynb) if you need some help with Markdown.\n",
        "    * Do pay particular attention to the `Equations:` section, and the linked [LaTeX/Mathematics](https://en.wikibooks.org/wiki/LaTeX/Mathematics ) wikibook to make nicely formatted equations. You will need this for the assignments.\n",
        "  2. [2] Write a function to evaluate $h$.\n",
        "  3. [2] Write a program that requests user input of $T$ and then prints out the altitude in kilometre\n",
        "  4. [2] Hence find the altitudes of satellites that orbit the Earth once a day (‘geosynchronous’ orbit), once every 90 minutes, and once every 45 minutes. What do you conclude from the last of these calculations?"
      ]
    },
    {
      "cell_type": "markdown",
      "source": [
        "1) In a stable circular orbit (the radius (r) of the orbit is constant) around a planet of mass M, the acceleration due to gravity on the satellite and the acceleration required for the circular path are equal:\n",
        "  $${\\frac{GM}{r^2}}={\\frac{v^2}{r}}$$\n",
        "(G = gravitational constant, v = linear speed of satellite)\n",
        "\n",
        "  Simplifying:\n",
        "  $${\\frac{GM}{r}}=v^2$$\n",
        "\n",
        "The speed can be found from the circumference and period (T) of the orbit:\n",
        "$$v=\\frac{2{\\pi}r}{T}$$\n",
        "\n",
        "Combining these two equations:\n",
        "$$(\\frac{2{\\pi}r}{T})^2 = \\frac{GM}{r}$$\n",
        "\n",
        "Rearranging:\n",
        "$$r^3 = \\frac{GMT}{4\\pi^2}$$\n",
        "The radius of the orbit is equal to the sum of the radius of the planet (R) and the height of the satellite above it (h):\n",
        "$$r = R+h$$\n",
        "\n",
        "Substituting this in for the radius of the orbit and rearranging results in:\n",
        "$$h={( \\frac{GMT^2}{4\\pi^2})}^{1/3} - R$$"
      ],
      "metadata": {
        "id": "-gGVKVm2d_Ch"
      }
    },
    {
      "cell_type": "markdown",
      "source": [
        "2)"
      ],
      "metadata": {
        "id": "o0H1X6etEGsq"
      }
    },
    {
      "cell_type": "code",
      "execution_count": 31,
      "metadata": {
        "id": "RrowOPvytKVb"
      },
      "outputs": [],
      "source": [
        "def h(T, M = 5.97 * (10**24), R = 6.38 * (10 ** 6), G = 6.67 * (10 ** -11)):\n",
        "  \"\"\" a function to find h, the height of a satellite above a spherical mass, depending on the period of the orbit.\n",
        "  The spherical body of mass, M, [kg], radius, R, [m] is by default earth and the gravitational constant, G, is 6.67*(10^11)\n",
        "  [m³*kg⁻¹*s⁻²] by default\"\"\"\n",
        "  return (((G * M * (T ** 2)) / (4 * (pi**2))) ** (1 / 3)) - R"
      ]
    },
    {
      "cell_type": "markdown",
      "source": [
        "3)"
      ],
      "metadata": {
        "id": "jowep26lEIG_"
      }
    },
    {
      "cell_type": "code",
      "source": [
        "T = input(\"enter period: \")\n",
        "h0 = h(float(T))\n",
        "h0km = h0/1000\n",
        "print(\"the height above the planet is {0:.2f} km\".format(h0km))"
      ],
      "metadata": {
        "colab": {
          "base_uri": "https://localhost:8080/"
        },
        "id": "KmNNiXNcC1y9",
        "outputId": "c2c4de70-0b88-4faf-d214-da79e33e7528"
      },
      "execution_count": 46,
      "outputs": [
        {
          "output_type": "stream",
          "name": "stdout",
          "text": [
            "enter period: 86400\n",
            "the height above the planet is 35846.91 km\n"
          ]
        }
      ]
    },
    {
      "cell_type": "code",
      "source": [
        "T = input(\"enter period: \")\n",
        "h0 = h(float(T))\n",
        "h0km = h0/1000\n",
        "print(\"the height above the planet is {0:.2f} km\".format(h0km))"
      ],
      "metadata": {
        "colab": {
          "base_uri": "https://localhost:8080/"
        },
        "id": "zuWHvHoTzpPG",
        "outputId": "3bdef50b-05d0-470b-96c6-779df2d75fdd"
      },
      "execution_count": 47,
      "outputs": [
        {
          "output_type": "stream",
          "name": "stdout",
          "text": [
            "enter period: 5400\n",
            "the height above the planet is 270.32 km\n"
          ]
        }
      ]
    },
    {
      "cell_type": "code",
      "source": [
        "T = input(\"enter period: \")\n",
        "h0 = h(float(T))\n",
        "h0km = h0/1000\n",
        "print(\"the height above the planet is {0:.2f} km\".format(h0km))"
      ],
      "metadata": {
        "colab": {
          "base_uri": "https://localhost:8080/"
        },
        "id": "w3Llxy0x0RQN",
        "outputId": "8ca92101-cf2c-4c53-bac1-10f063dc8870"
      },
      "execution_count": 48,
      "outputs": [
        {
          "output_type": "stream",
          "name": "stdout",
          "text": [
            "enter period: 2700\n",
            "the height above the planet is -2190.56 km\n"
          ]
        }
      ]
    },
    {
      "cell_type": "markdown",
      "source": [
        "4) An orbit of period 45 minutes around earth is not possible."
      ],
      "metadata": {
        "id": "uWJn66yb00le"
      }
    },
    {
      "cell_type": "markdown",
      "metadata": {
        "id": "N2HpM5xqtKVb"
      },
      "source": [
        "## Exercise 3\n",
        "\n",
        "  1. [4] Write a function `linfit(x,y)` to perform a least squares fit of data using the method described last year in PX1224 week 4 to return estimates of slope and intercept (and their errors).\n",
        "  2. [2] Put your functions into your own package, using a suitable file name. Type the code you want to be in the package (including comments!) in a cell of the notebook, pick a name for the file and add `%%writefile <file_name>.py` at the top of the cell to have the notebook create the file.\n",
        "  3. [2] Test out your package by importing it, defining some test data and plotting a graph of the data and fitted straight line. (Label the axes and give the graph a title.)\n",
        "\n",
        "**IMPORTANT**: The `linfit` function itself must be self contained. It must only take in the x- and y-data, and return m, dm, c and dc. It must not do anything else, such as print or plot data - that should all be done outside the function."
      ]
    },
    {
      "cell_type": "markdown",
      "source": [
        "1 and 2."
      ],
      "metadata": {
        "id": "Jxfv90GLENJo"
      }
    },
    {
      "cell_type": "code",
      "execution_count": 3,
      "metadata": {
        "colab": {
          "base_uri": "https://localhost:8080/"
        },
        "id": "v6SVzhBUtKVb",
        "outputId": "a338743a-656d-429e-a74b-91855b3cdefb"
      },
      "outputs": [
        {
          "output_type": "stream",
          "name": "stdout",
          "text": [
            "Overwriting <data_analysis>.py\n"
          ]
        }
      ],
      "source": [
        "%%writefile <data_analysis>.py\n",
        "\n",
        "import numpy as np\n",
        "\n",
        "def linfit(x, y):\n",
        "\n",
        "  \"\"\" Input 2 equal length lists of data, linfit finds the \"least squares\" linear fit\n",
        "  to the data and returns the gradient, its standard error, the y-intercept and\n",
        "  its standard error as a list\"\"\"\n",
        "\n",
        "  # Convert input lists to numpy arrays\n",
        "  x_array = np.array(x)\n",
        "  y_array = np.array(y)\n",
        "\n",
        "  # Find 1st order line of best fit coefficients\n",
        "  p_coeff = np.polyfit(x_array, y_array, 1)\n",
        "  m = float(p_coeff[0])\n",
        "  c = float(p_coeff[1])\n",
        "\n",
        "  # Finding the standard error in the gradient (dm) and y-intercept (dc)\n",
        "  #n=number of data points\n",
        "  n = len(x_array)\n",
        "  #D=Variance?\n",
        "  D = sum(x_array**2) - 1./n * sum(x_array)**2\n",
        "  #x_bar= mean value of x\n",
        "  x_bar = np.mean(x_array)\n",
        "  p_coeff, residuals, _, _, _ = np.polyfit(x_array, y_array, 1, full=True)\n",
        "\n",
        "  dm_squared = 1./(n-2)*residuals/D\n",
        "  dm=float(dm_squared[0]**0.5)\n",
        "  dc_squared = 1./(n-2)*(D/n + x_bar**2)*residuals/D\n",
        "  dc=float(dc_squared[0]**0.5)\n",
        "\n",
        "  return m, dm, c, dc"
      ]
    },
    {
      "cell_type": "markdown",
      "source": [],
      "metadata": {
        "id": "JgNjS-tVETvg"
      }
    },
    {
      "cell_type": "markdown",
      "source": [
        "3)"
      ],
      "metadata": {
        "id": "-xhpejI8EjQ4"
      }
    },
    {
      "cell_type": "code",
      "source": [
        "import numpy as np\n",
        "import matplotlib.pyplot as plt\n",
        "import data_analysis as da\n",
        "\n",
        "# Input x and y data\n",
        "x = (0.49,0.98,1.47,1.96,2.45)\n",
        "y = (0.003,0.005,0.007,0.009,0.011)\n",
        "\n",
        "# Convert lists to arrays\n",
        "x_array = np.array(x)\n",
        "y_array = np.array(y)\n",
        "\n",
        "# Plot data points\n",
        "plt.scatter(x_array,y_array)\n",
        "\n",
        "# Plot least squares linear fit\n",
        "x_scale = np.linspace(0,np.max(x_array), 100)\n",
        "p = da.linfit(x,y)[0] * x_scale + da.linfit(x,y)[2]\n",
        "plt.plot(x_scale,p)\n",
        "\n",
        "# Add titles/labels and a legend to the graph\n",
        "plt.title( 'The vertical displacement of a horizontal ruler as increasig force opposite forces are applied to either end of it' )\n",
        "plt.xlabel( 'Force (N)' )\n",
        "plt.ylabel( 'Extension (m)' )\n",
        "\n",
        "# Format the graph to be easily readable\n",
        "plt.grid( )\n",
        "plt.xlim( 0, np.max(x_array) )\n",
        "plt.ylim( 0, np.max(p) )"
      ],
      "metadata": {
        "colab": {
          "base_uri": "https://localhost:8080/",
          "height": 330
        },
        "id": "Yuvz3PPqq0P4",
        "outputId": "555c6c90-9c14-4ea6-f374-0bbe2a6a33bd"
      },
      "execution_count": 5,
      "outputs": [
        {
          "output_type": "execute_result",
          "data": {
            "text/plain": [
              "(0.0, 0.011)"
            ]
          },
          "metadata": {},
          "execution_count": 5
        },
        {
          "output_type": "display_data",
          "data": {
            "text/plain": [
              "<Figure size 640x480 with 1 Axes>"
            ],
            "image/png": "[encoded data removed]"
          },
          "metadata": {}
        }
      ]
    }
  ],
  "metadata": {
    "colab": {
      "name": "Functions.ipynb",
      "provenance": [],
      "include_colab_link": true
    },
    "kernelspec": {
      "display_name": "Python 3",
      "language": "python",
      "name": "python3"
    },
    "language_info": {
      "codemirror_mode": {
        "name": "ipython",
        "version": 3
      },
      "file_extension": ".py",
      "mimetype": "text/x-python",
      "name": "python",
      "nbconvert_exporter": "python",
      "pygments_lexer": "ipython3",
      "version": "3.7.10"
    },
    "latex_metadata": {
      "affiliation": "Cardiff University",
      "author": "Vivien Raymond",
      "title": "Functions"
    }
  },
  "nbformat": 4,
  "nbformat_minor": 0
}